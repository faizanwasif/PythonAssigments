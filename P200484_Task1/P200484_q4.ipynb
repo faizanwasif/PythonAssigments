{
 "cells": [
  {
   "cell_type": "code",
   "execution_count": 30,
   "metadata": {},
   "outputs": [
    {
     "name": "stdout",
     "output_type": "stream",
     "text": [
      "Roll No: l\n",
      "Marks : -35\n",
      "Grade A\n"
     ]
    }
   ],
   "source": [
    "\n",
    "\n",
    "Roll_No = input(\"\"\"Roll No: \"\"\")\n",
    "\n",
    "\n",
    "\n",
    "marks = input(\"\"\"Marks : \"\"\")\n",
    "\n",
    "A = \"Grade A\"\n",
    "\n",
    "B = \"Grade B\"\n",
    "\n",
    "C = \"Grade C\"\n",
    "\n",
    "D = \"Grade D\"\n",
    "\n",
    "E = \"Grade E\"\n",
    "\n",
    "\n",
    "def result(): \n",
    "    \n",
    "    \n",
    "    if (marks >= \"80\") or (marks <= \"100\"):\n",
    "        \n",
    "        return A\n",
    "        \n",
    "    elif (marks >= \"70\") and (marks < \"80\"):\n",
    "        \n",
    "        return B\n",
    "    \n",
    "    elif (marks >= \"60\") and (marks < \"70\"):\n",
    "        \n",
    "        return C\n",
    "    \n",
    "    elif (marks >= \"50\") and (marks < \"60\"):\n",
    "        \n",
    "        return D\n",
    "    \n",
    "    elif (marks > \"0\") and (marks < \"50\"):\n",
    "        \n",
    "        return E\n",
    "    \n",
    "print(result())"
   ]
  },
  {
   "cell_type": "code",
   "execution_count": null,
   "metadata": {},
   "outputs": [],
   "source": []
  },
  {
   "cell_type": "code",
   "execution_count": null,
   "metadata": {},
   "outputs": [],
   "source": []
  }
 ],
 "metadata": {
  "kernelspec": {
   "display_name": "Python 3",
   "language": "python",
   "name": "python3"
  },
  "language_info": {
   "codemirror_mode": {
    "name": "ipython",
    "version": 3
   },
   "file_extension": ".py",
   "mimetype": "text/x-python",
   "name": "python",
   "nbconvert_exporter": "python",
   "pygments_lexer": "ipython3",
   "version": "3.8.3"
  }
 },
 "nbformat": 4,
 "nbformat_minor": 4
}
