{
 "cells": [
  {
   "cell_type": "code",
   "execution_count": 2,
   "metadata": {},
   "outputs": [
    {
     "name": "stdout",
     "output_type": "stream",
     "text": [
      "AX**2 + BX + C = 0\n",
      "A = 1\n",
      "B = 2\n",
      "C = 4\n",
      "Discriminant is  -12\n",
      "Roots are negative\n"
     ]
    }
   ],
   "source": [
    "from math import sqrt\n",
    "\n",
    "equation = \"AX**2 + BX + C = 0\"\n",
    "\n",
    "print(equation)\n",
    "\n",
    "a = int(input(\"A = \"))\n",
    "\n",
    "b = int(input(\"B = \"))\n",
    "\n",
    "c = int(input(\"C = \"))\n",
    "\n",
    "def equ1():\n",
    "    \n",
    "    if D >= 0:\n",
    "                \n",
    "        return ((-b + (sqrt(b**2 - 4 * a * c))) / 2 * a)\n",
    "           \n",
    "    \n",
    "def equ2():\n",
    "     \n",
    "    if D > 0:\n",
    "        \n",
    "        return (-b - (sqrt(b**2 - 4 * a * c))) / 2 * a \n",
    "    \n",
    "D = int(b**2 - 4 * a * c)\n",
    "\n",
    "print(\"Discriminant is \",D)\n",
    "          \n",
    "if D >= 0:\n",
    "    \n",
    "    print(\"X = \",equ1(), \"OR\" , \"X = \",equ2() )\n",
    " \n",
    "   \n",
    "else:\n",
    "        \n",
    "    print(\"Roots are negative\")    "
   ]
  },
  {
   "cell_type": "code",
   "execution_count": null,
   "metadata": {},
   "outputs": [],
   "source": []
  }
 ],
 "metadata": {
  "kernelspec": {
   "display_name": "Python 3",
   "language": "python",
   "name": "python3"
  },
  "language_info": {
   "codemirror_mode": {
    "name": "ipython",
    "version": 3
   },
   "file_extension": ".py",
   "mimetype": "text/x-python",
   "name": "python",
   "nbconvert_exporter": "python",
   "pygments_lexer": "ipython3",
   "version": "3.8.3"
  }
 },
 "nbformat": 4,
 "nbformat_minor": 4
}
