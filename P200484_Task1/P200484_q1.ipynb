{
 "cells": [
  {
   "cell_type": "code",
   "execution_count": 1,
   "metadata": {},
   "outputs": [
    {
     "name": "stdout",
     "output_type": "stream",
     "text": [
      "hello\n",
      "Uppercase =  0\n",
      "Lowercase =  5\n",
      "Digits =  0\n",
      "Special charaters =  0\n"
     ]
    }
   ],
   "source": [
    "line = input()\n",
    "\n",
    "up = 0\n",
    "\n",
    "low = 0\n",
    "\n",
    "dig = 0\n",
    "\n",
    "special = 0\n",
    "\n",
    "space = 0\n",
    "\n",
    "for x in line:\n",
    "    \n",
    "    if x.isupper() == True:\n",
    "        up += 1\n",
    "    \n",
    "    elif x.islower() == True:\n",
    "        \n",
    "        low += 1\n",
    "        \n",
    "    elif x.isnumeric() == True:\n",
    "        \n",
    "        dig += 1\n",
    "        \n",
    "    elif x.isspace() == True:\n",
    "         \n",
    "        space = 0\n",
    "        \n",
    "    else:\n",
    "        special += 1\n",
    "\n",
    "print(\"Uppercase = \", up)\n",
    "print(\"Lowercase = \", low)\n",
    "print(\"Digits = \", dig)\n",
    "print(\"Special charaters = \", special)\n",
    "        "
   ]
  },
  {
   "cell_type": "code",
   "execution_count": null,
   "metadata": {},
   "outputs": [],
   "source": []
  }
 ],
 "metadata": {
  "kernelspec": {
   "display_name": "Python 3",
   "language": "python",
   "name": "python3"
  },
  "language_info": {
   "codemirror_mode": {
    "name": "ipython",
    "version": 3
   },
   "file_extension": ".py",
   "mimetype": "text/x-python",
   "name": "python",
   "nbconvert_exporter": "python",
   "pygments_lexer": "ipython3",
   "version": "3.8.3"
  }
 },
 "nbformat": 4,
 "nbformat_minor": 4
}
